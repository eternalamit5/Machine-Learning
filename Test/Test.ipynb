{
 "cells": [
  {
   "cell_type": "code",
   "execution_count": null,
   "id": "a884c3cd-7568-49d2-9df4-4481fdc6ae54",
   "metadata": {},
   "outputs": [],
   "source": [
    "print('hello')"
   ]
  },
  {
   "cell_type": "markdown",
   "id": "6d777aa1-f996-4dc8-a4db-6bab32850a25",
   "metadata": {},
   "source": [
    "# hhhhh"
   ]
  },
  {
   "cell_type": "code",
   "execution_count": 2,
   "id": "d2bebb6e-e815-4cce-a16f-9e952f4173fe",
   "metadata": {},
   "outputs": [
    {
     "data": {
      "text/plain": [
       "5"
      ]
     },
     "execution_count": 2,
     "metadata": {},
     "output_type": "execute_result"
    }
   ],
   "source": [
    "1+2\n",
    "2+3"
   ]
  },
  {
   "cell_type": "code",
   "execution_count": null,
   "id": "5347c0a8-924a-40b1-b568-f20697b7950b",
   "metadata": {
    "tags": []
   },
   "outputs": [],
   "source": []
  },
  {
   "cell_type": "code",
   "execution_count": 4,
   "id": "560219e2-e6e2-4838-b290-e3383ffe17e9",
   "metadata": {},
   "outputs": [
    {
     "data": {
      "text/plain": [
       "8"
      ]
     },
     "execution_count": 4,
     "metadata": {},
     "output_type": "execute_result"
    }
   ],
   "source": [
    "4*2"
   ]
  },
  {
   "cell_type": "code",
   "execution_count": 5,
   "id": "ad63211b-bfbc-470a-b081-8234a9e957b6",
   "metadata": {},
   "outputs": [
    {
     "data": {
      "text/plain": [
       "8"
      ]
     },
     "execution_count": 5,
     "metadata": {},
     "output_type": "execute_result"
    }
   ],
   "source": [
    "4*2"
   ]
  },
  {
   "cell_type": "code",
   "execution_count": null,
   "id": "dd9fdb95-a2f1-4d16-aa5f-62aaef2ea3fa",
   "metadata": {},
   "outputs": [],
   "source": []
  }
 ],
 "metadata": {
  "kernelspec": {
   "display_name": "Python 3",
   "language": "python",
   "name": "python3"
  },
  "language_info": {
   "codemirror_mode": {
    "name": "ipython",
    "version": 3
   },
   "file_extension": ".py",
   "mimetype": "text/x-python",
   "name": "python",
   "nbconvert_exporter": "python",
   "pygments_lexer": "ipython3",
   "version": "3.8.10"
  }
 },
 "nbformat": 4,
 "nbformat_minor": 5
}
