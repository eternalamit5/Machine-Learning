{
 "cells": [
  {
   "cell_type": "markdown",
   "id": "d8f7114d-510f-4d43-95d2-65a626505458",
   "metadata": {},
   "source": [
    "Label is the variable we're predicting\n",
    " Typically represented by the variable y or it is the output\n",
    "Features are input variables describing our data\n",
    " Typically represented by the variables {x1, x2, ..., xn}"
   ]
  },
  {
   "cell_type": "markdown",
   "id": "97c88c7c-7ffb-4b9b-9088-60a1dd28caa4",
   "metadata": {},
   "source": [
    "Labels\n",
    "A label is the thing we're predicting—the y variable in simple linear regression. The label could be the future price of wheat, the kind of animal shown in a picture, the meaning of an audio clip, or just about anything.\n",
    "\n",
    "Features\n",
    "A feature is an input variable—the x variable in simple linear regression. A simple machine learning project might use a single feature, while a more sophisticated machine learning project could use millions of features, specified as:\n",
    "\n",
    "In the spam detector example, the features could include the following:\n",
    "\n",
    "words in the email text\n",
    "sender's address\n",
    "time of day the email was sent\n",
    "email contains the phrase \"one weird trick.\""
   ]
  },
  {
   "cell_type": "markdown",
   "id": "402a9a89-973f-4876-b086-8df650bfe47a",
   "metadata": {},
   "source": [
    "https://developers.google.com/machine-learning/crash-course/framing/ml-terminology"
   ]
  }
 ],
 "metadata": {
  "kernelspec": {
   "display_name": "Python 3",
   "language": "python",
   "name": "python3"
  },
  "language_info": {
   "codemirror_mode": {
    "name": "ipython",
    "version": 3
   },
   "file_extension": ".py",
   "mimetype": "text/x-python",
   "name": "python",
   "nbconvert_exporter": "python",
   "pygments_lexer": "ipython3",
   "version": "3.8.10"
  }
 },
 "nbformat": 4,
 "nbformat_minor": 5
}
